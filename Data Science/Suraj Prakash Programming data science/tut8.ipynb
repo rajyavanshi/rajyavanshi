{
 "cells": [
  {
   "cell_type": "markdown",
   "metadata": {},
   "source": [
    "# Python Lambda"
   ]
  },
  {
   "cell_type": "markdown",
   "metadata": {},
   "source": [
    "A lambda function is a small anonymous function.\n",
    "\n",
    "A lambda function can take any number of arguments, but can only have one expression."
   ]
  },
  {
   "cell_type": "code",
   "execution_count": 2,
   "metadata": {},
   "outputs": [
    {
     "name": "stdout",
     "output_type": "stream",
     "text": [
      "15\n",
      "1024\n"
     ]
    }
   ],
   "source": [
    "x = lambda a: a + 10\n",
    "y = lambda a: a ** 10\n",
    "print(x(5))\n",
    "print(y(2))"
   ]
  },
  {
   "cell_type": "markdown",
   "metadata": {},
   "source": [
    "* Why Use Lambda Functions?\n",
    "\n",
    "The power of lambda is better shown when you use them as an anonymous function inside another function.\n",
    "\n",
    "Say you have a function definition that takes one argument, and that argument will be multiplied with an unknown number:"
   ]
  },
  {
   "cell_type": "code",
   "execution_count": 1,
   "metadata": {},
   "outputs": [
    {
     "name": "stdout",
     "output_type": "stream",
     "text": [
      "22\n",
      "33\n"
     ]
    }
   ],
   "source": [
    "def myfunc(n):\n",
    "  return lambda a : a * n\n",
    "\n",
    "mydoubler = myfunc(2)\n",
    "\n",
    "print(mydoubler(11))\n",
    "\n",
    "mytripler = myfunc(3)\n",
    "\n",
    "print(mytripler(11))\n"
   ]
  },
  {
   "cell_type": "markdown",
   "metadata": {},
   "source": [
    "# Enumerate()  in  python"
   ]
  },
  {
   "cell_type": "markdown",
   "metadata": {},
   "source": [
    "The enumerate () method adds a counter to an iterable and returns it in the form of an enumerating object. This enumerated object can then be used directly for loops or converted into a list of tuples using the list() function."
   ]
  },
  {
   "cell_type": "markdown",
   "metadata": {},
   "source": [
    "Syntax: enumerate(iterable, start=0)\n",
    "\n",
    "Parameters:\n",
    "\n",
    "* Iterable: any object that supports iteration\n",
    "* Start: the index value from which the counter is to be started, by default it is 0.\n",
    "\n",
    "<bold>Return:</bold> Returns an iterator with index and element pairs from the original iterable"
   ]
  },
  {
   "cell_type": "code",
   "execution_count": 6,
   "metadata": {},
   "outputs": [
    {
     "name": "stdout",
     "output_type": "stream",
     "text": [
      "[(0, 'eat'), (1, 'sleep'), (2, 'code'), (3, 'repeat')]\n",
      "<class 'enumerate'>\n",
      "[(100, 'T'), (101, 'h'), (102, 'e'), (103, ' '), (104, 'P'), (105, 'r'), (106, 'a'), (107, 'k'), (108, 'a'), (109, 's'), (110, 'h')]\n"
     ]
    }
   ],
   "source": [
    "li = [\"eat\", \"sleep\", \"code\", \"repeat\"]\n",
    "st = \"The Prakash\"\n",
    "\n",
    "# creating enumerate objects\n",
    "obj1 = enumerate(li)\n",
    "obj2 = enumerate(st,100)# to specify the starting index we may pass the second arguement as well.\n",
    "\n",
    "print(list(obj1))\n",
    "print(type(obj1))\n",
    "print(list(obj2))\n"
   ]
  },
  {
   "cell_type": "code",
   "execution_count": 27,
   "metadata": {},
   "outputs": [
    {
     "name": "stdout",
     "output_type": "stream",
     "text": [
      "0 apple\n",
      "1 banana\n",
      "2 cherry\n"
     ]
    }
   ],
   "source": [
    "my_list = ['apple', 'banana', 'cherry']\n",
    "for index, value in enumerate(my_list):\n",
    "    print(index, value)"
   ]
  },
  {
   "cell_type": "markdown",
   "metadata": {},
   "source": [
    "* Enumerate backwards in Python"
   ]
  },
  {
   "cell_type": "code",
   "execution_count": 28,
   "metadata": {},
   "outputs": [
    {
     "name": "stdout",
     "output_type": "stream",
     "text": [
      "2 cherry\n",
      "1 banana\n",
      "0 apple\n"
     ]
    }
   ],
   "source": [
    "my_list = ['apple', 'banana', 'cherry']\n",
    "for index, value in enumerate(reversed(my_list)):\n",
    "    print(len(my_list) - index - 1, value)"
   ]
  },
  {
   "cell_type": "markdown",
   "metadata": {},
   "source": [
    "* Using Enumerte Object in loops"
   ]
  },
  {
   "cell_type": "code",
   "execution_count": 21,
   "metadata": {},
   "outputs": [
    {
     "name": "stdout",
     "output_type": "stream",
     "text": [
      "0\n",
      "eat\n",
      "1\n",
      "sleep\n",
      "2\n",
      "code\n",
      "3\n",
      "repeat\n"
     ]
    }
   ],
   "source": [
    "li = [\"eat\", \"sleep\", \"code\", \"repeat\"]\n",
    "\n",
    "obj = enumerate (li)\n",
    "\n",
    "# printing the tuples in object directly\n",
    "# for ele in obj:\n",
    "#     print(ele)\n",
    "\n",
    "# changing index and printing separtely\n",
    "# for cout, ele in obj:\n",
    "#     print(cout, ele)\n",
    "\n",
    "# getting desired output from tuple\n",
    "for count , ele in obj:\n",
    "    print(count)\n",
    "    print(ele)"
   ]
  },
  {
   "cell_type": "code",
   "execution_count": 22,
   "metadata": {},
   "outputs": [
    {
     "name": "stdout",
     "output_type": "stream",
     "text": [
      "(0, 'eat')\n",
      "(1, 'sleep')\n",
      "(2, 'repeat')\n",
      "100 eat\n",
      "101 sleep\n",
      "102 repeat\n",
      "0\n",
      "eat\n",
      "1\n",
      "sleep\n",
      "2\n",
      "repeat\n"
     ]
    }
   ],
   "source": [
    "l1 = [\"eat\", \"sleep\", \"repeat\"]\n",
    "\n",
    "# printing the tuples in object directly\n",
    "for ele in enumerate(l1):\n",
    "    print (ele)\n",
    "\n",
    "# changing index and printing separately\n",
    "for count, ele in enumerate(l1, 100):\n",
    "    print (count, ele)\n",
    "\n",
    "# getting desired output from tuple\n",
    "for count, ele in enumerate(l1):\n",
    "    print(count)\n",
    "    print(ele)\n"
   ]
  },
  {
   "cell_type": "markdown",
   "metadata": {},
   "source": [
    "* Accessing the Next Element"
   ]
  },
  {
   "cell_type": "code",
   "execution_count": 26,
   "metadata": {},
   "outputs": [
    {
     "name": "stdout",
     "output_type": "stream",
     "text": [
      "Next Element: (0, 'apple')\n",
      "Next Element: (1, 'banana')\n"
     ]
    }
   ],
   "source": [
    "fruits = ['apple', 'banana', 'cherry']\n",
    "enum_fruits = enumerate(fruits)\n",
    "\n",
    "next_element = next(enum_fruits)\n",
    "next_element1 = next(enum_fruits)\n",
    "print(f\"Next Element: {next_element}\")\n",
    "print(f\"Next Element: {next_element1}\")\n"
   ]
  },
  {
   "cell_type": "markdown",
   "metadata": {},
   "source": [
    "# zip() in Python"
   ]
  },
  {
   "cell_type": "markdown",
   "metadata": {},
   "source": [
    "Python zip() method takes iterable containers and returns a single iterator object, having mapped values from all the containers. "
   ]
  },
  {
   "cell_type": "markdown",
   "metadata": {},
   "source": [
    "<b>Syntax</b> :  zip(*iterators) \n",
    "\n",
    "<b>Parameters</b> : Python iterables or containers ( list, string etc ) \n",
    "\n",
    "<b>Return Value</b> : Returns a single iterator object."
   ]
  },
  {
   "cell_type": "markdown",
   "metadata": {},
   "source": [
    "* Python zip() with lists:\n",
    "\n",
    "In Python, the zip() function is used to combine two or more lists (or any other iterables) into a single iterable, where elements from corresponding positions are paired together. The resulting iterable contains tuples, where the first element from each list is paired together, the second element from each list is paired together, and so on."
   ]
  },
  {
   "cell_type": "code",
   "execution_count": 35,
   "metadata": {},
   "outputs": [
    {
     "name": "stdout",
     "output_type": "stream",
     "text": [
      "{('Nikhil', 1), ('Manjeet', 4), ('Shambhavi', 3), ('Astha', 2)}\n"
     ]
    }
   ],
   "source": [
    "name = [ \"Manjeet\", \"Nikhil\", \"Shambhavi\", \"Astha\" ]\n",
    "roll_no = [ 4, 1, 3, 2 ]\n",
    " \n",
    "# using zip() to map values\n",
    "mapped = zip(name, roll_no)\n",
    " \n",
    "\n",
    "print(set(mapped))\n",
    "\n",
    "# for x in set(mapped):\n",
    "#     print(x)\n",
    "\n",
    "# for x,y in set(mapped):\n",
    "#     print(x,y)"
   ]
  },
  {
   "cell_type": "markdown",
   "metadata": {},
   "source": [
    "* Python zip() with enumearte"
   ]
  },
  {
   "cell_type": "markdown",
   "metadata": {},
   "source": [
    "The combination of zip() and enumerate() is useful in scenarios where you want to process multiple lists or tuples in parallel, and also need to access their indices for any specific purpose."
   ]
  },
  {
   "cell_type": "code",
   "execution_count": 75,
   "metadata": {},
   "outputs": [
    {
     "name": "stdout",
     "output_type": "stream",
     "text": [
      "1 s 20\n"
     ]
    }
   ],
   "source": [
    "names = ['Suraj', 'Shubham', 'Akshat']\n",
    "ages = [20, 20, 19]\n",
    "\n",
    "mapped = zip(name, ages);\n",
    "# print(list(mapped))\n",
    "\n",
    "# print(list(enumerate(mapped)))\n",
    "\n",
    "for count , (name,age) in enumerate(mapped,1):\n",
    "    print(count, name, age)"
   ]
  },
  {
   "cell_type": "code",
   "execution_count": 72,
   "metadata": {},
   "outputs": [
    {
     "name": "stdout",
     "output_type": "stream",
     "text": [
      "1 Suraj 20\n",
      "2 Shubham 20\n",
      "3 Akshat 19\n"
     ]
    }
   ],
   "source": [
    "names = ['Suraj', 'Shubham', 'Akshat']\n",
    "ages = [20, 20, 19]\n",
    "\n",
    "# mapped = zip(name, ages);\n",
    "\n",
    "\n",
    "for count , (name, age) in enumerate(zip(names, ages),1):\n",
    "    print(count, name, age)"
   ]
  },
  {
   "cell_type": "markdown",
   "metadata": {},
   "source": [
    "* Python zip() with Dictionary"
   ]
  },
  {
   "cell_type": "markdown",
   "metadata": {},
   "source": [
    "The zip() function in Python is used to combine two or more iterable dictionaries into a single iterable, where corresponding elements from the input iterable are paired together as tuples. When using zip() with dictionaries, it pairs the keys and values of the dictionaries based on their position in the dictionary.\n",
    "\n"
   ]
  },
  {
   "cell_type": "code",
   "execution_count": 78,
   "metadata": {},
   "outputs": [
    {
     "name": "stdout",
     "output_type": "stream",
     "text": [
      "{'name': 'Suraj', 'age': 20, 'city': 'Mumbai'}\n",
      "<class 'dict'>\n",
      "name Suraj\n",
      "age 20\n",
      "city Mumbai\n"
     ]
    }
   ],
   "source": [
    "dict = {\n",
    "    \"name\" : 'Suraj' ,\n",
    "    \"age\" :20,\n",
    "    \"city\" : 'Mumbai'\n",
    "}\n",
    "\n",
    "print(dict)\n",
    "print(type(dict))\n",
    "\n",
    "for x in dict:\n",
    "    print(x, dict[x])"
   ]
  },
  {
   "cell_type": "code",
   "execution_count": 85,
   "metadata": {},
   "outputs": [
    {
     "name": "stdout",
     "output_type": "stream",
     "text": [
      "{'Geeks': 2175, 'For': 1127, 'geeks': 4322}\n"
     ]
    }
   ],
   "source": [
    "stocks = [\"Geeks\", \"For\", \"geeks\"]\n",
    "prices = [2175, 1127, 4322]\n",
    "\n",
    "new_dict = {x: y for x,\n",
    "            y in zip(stocks, prices)}\n",
    "print(new_dict)"
   ]
  },
  {
   "cell_type": "markdown",
   "metadata": {},
   "source": [
    "* Python zip() with tuple"
   ]
  },
  {
   "cell_type": "markdown",
   "metadata": {},
   "source": [
    "When used with tuples, zip() works by pairing the elements from tuples based on their positions. The resulting iterable contains tuples where the i-th tuple contains the i-th element from each input tuple."
   ]
  },
  {
   "cell_type": "code",
   "execution_count": 88,
   "metadata": {},
   "outputs": [
    {
     "name": "stdout",
     "output_type": "stream",
     "text": [
      "1 a\n",
      "2 b\n",
      "3 c\n"
     ]
    }
   ],
   "source": [
    "tuple1 = (1, 2, 3)\n",
    "tuple2 = ('a', 'b', 'c')\n",
    "zipped = zip(tuple1, tuple2)\n",
    "result = list(zipped)\n",
    "for x,y in result:\n",
    "    print(x,y)"
   ]
  },
  {
   "cell_type": "markdown",
   "metadata": {},
   "source": [
    "* Python zip() with Multiple Iterables"
   ]
  },
  {
   "cell_type": "code",
   "execution_count": 89,
   "metadata": {},
   "outputs": [
    {
     "name": "stdout",
     "output_type": "stream",
     "text": [
      "[(1, 'a', 'x'), (2, 'b', 'y'), (3, 'c', 'z')]\n"
     ]
    }
   ],
   "source": [
    "list1 = [1, 2, 3]\n",
    "list2 = ['a', 'b', 'c']\n",
    "list3 = ['x', 'y', 'z']\n",
    "zipped = zip(list1, list2, list3)\n",
    "result = list(zipped)\n",
    "print(result)"
   ]
  },
  {
   "cell_type": "markdown",
   "metadata": {},
   "source": [
    "* Zipping lists of unequal size"
   ]
  },
  {
   "cell_type": "markdown",
   "metadata": {},
   "source": [
    "The zip() function will only iterate over the smallest list passed. If given lists of different lengths, the resulting combination will only be as long as the smallest list passed. In the following code example:"
   ]
  },
  {
   "cell_type": "code",
   "execution_count": 97,
   "metadata": {},
   "outputs": [
    {
     "name": "stdout",
     "output_type": "stream",
     "text": [
      "Zipped result as a list:\n",
      "Chandler Male 35\n",
      "Monica Female 36\n",
      "Ross Male 38\n",
      "Rachel Female 34\n"
     ]
    }
   ],
   "source": [
    "# Define lists for 'persons', 'genders', and a tuple for 'ages'\n",
    "persons = [\"Chandler\", \"Monica\", \"Ross\", \"Rachel\", \"Joey\", \"Phoebe\", \"Joanna\"]\n",
    "genders = [\"Male\", \"Female\", \"Male\", \"Female\", \"Male\", \"Female\", \"Female\"]\n",
    "ages = (35, 36, 38, 34)\n",
    " \n",
    "# Create a zipped object combining the 'persons' and 'genders' \n",
    "#lists along with the 'ages' tuple\n",
    "zipped_result = zip(persons, genders, ages)\n",
    " \n",
    "# Print the zipped object\n",
    "print(\"Zipped result as a list:\")\n",
    "for person,gender,age in list(zipped_result):\n",
    "  print(person,gender,     age)"
   ]
  },
  {
   "cell_type": "markdown",
   "metadata": {},
   "source": [
    "* Unzipping using zip()"
   ]
  },
  {
   "cell_type": "markdown",
   "metadata": {},
   "source": [
    "Unzipping means converting the zipped values back to the individual self as they were. This is done with the help of “*” operator."
   ]
  },
  {
   "cell_type": "code",
   "execution_count": 98,
   "metadata": {},
   "outputs": [
    {
     "name": "stdout",
     "output_type": "stream",
     "text": [
      "The zipped result is : [('Manjeet', 4, 40), ('Nikhil', 1, 50), ('Shambhavi', 3, 60), ('Astha', 2, 70)]\n",
      "\n",
      "\n",
      "The unzipped result: \n",
      "The name list is : ('Manjeet', 'Nikhil', 'Shambhavi', 'Astha')\n",
      "The roll_no list is : (4, 1, 3, 2)\n",
      "The marks list is : (40, 50, 60, 70)\n"
     ]
    }
   ],
   "source": [
    "# initializing lists\n",
    "name = [\"Manjeet\", \"Nikhil\", \"Shambhavi\", \"Astha\"]\n",
    "roll_no = [4, 1, 3, 2]\n",
    "marks = [40, 50, 60, 70]\n",
    " \n",
    "# using zip() to map values\n",
    "mapped = zip(name, roll_no, marks)\n",
    " \n",
    "# converting values to print as list\n",
    "mapped = list(mapped)\n",
    " \n",
    "# printing resultant values\n",
    "print(\"The zipped result is : \", end=\"\")\n",
    "print(mapped)\n",
    " \n",
    "print(\"\\n\")\n",
    " \n",
    "# unzipping values\n",
    "namz, roll_noz, marksz = zip(*mapped)\n",
    " \n",
    "print(\"The unzipped result: \\n\", end=\"\")\n",
    " \n",
    "# printing initial lists\n",
    "print(\"The name list is : \", end=\"\")\n",
    "print(namz)\n",
    " \n",
    "print(\"The roll_no list is : \", end=\"\")\n",
    "print(roll_noz)\n",
    " \n",
    "print(\"The marks list is : \", end=\"\")\n",
    "print(marksz)"
   ]
  },
  {
   "cell_type": "markdown",
   "metadata": {},
   "source": [
    "* Using zip() with Python loops"
   ]
  },
  {
   "cell_type": "markdown",
   "metadata": {},
   "source": [
    "There are many possible applications that can be said to be executed using zip, be it student database or scorecard or any other utility that requires mapping of groups. A small example of a scorecard is demonstrated below. "
   ]
  },
  {
   "cell_type": "code",
   "execution_count": 99,
   "metadata": {},
   "outputs": [
    {
     "name": "stdout",
     "output_type": "stream",
     "text": [
      "Player :  Sachin     Score : 100\n",
      "Player :  Sehwag     Score : 15\n",
      "Player :  Gambhir     Score : 17\n",
      "Player :  Dravid     Score : 28\n",
      "Player :  Raina     Score : 43\n"
     ]
    }
   ],
   "source": [
    "# Python code to demonstrate the application of\n",
    "# zip()\n",
    " \n",
    "# initializing list of players.\n",
    "players = [\"Sachin\", \"Sehwag\", \"Gambhir\", \"Dravid\", \"Raina\"]\n",
    " \n",
    "# initializing their scores\n",
    "scores = [100, 15, 17, 28, 43]\n",
    " \n",
    "# printing players and scores.\n",
    "for pl, sc in zip(players, scores):\n",
    "    print(\"Player :  %s     Score : %d\" % (pl, sc))"
   ]
  }
 ],
 "metadata": {
  "kernelspec": {
   "display_name": "Python 3",
   "language": "python",
   "name": "python3"
  },
  "language_info": {
   "codemirror_mode": {
    "name": "ipython",
    "version": 3
   },
   "file_extension": ".py",
   "mimetype": "text/x-python",
   "name": "python",
   "nbconvert_exporter": "python",
   "pygments_lexer": "ipython3",
   "version": "3.11.4"
  }
 },
 "nbformat": 4,
 "nbformat_minor": 2
}
