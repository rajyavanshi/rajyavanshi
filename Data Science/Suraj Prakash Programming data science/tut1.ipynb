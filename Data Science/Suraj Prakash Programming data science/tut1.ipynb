{
 "cells": [
  {
   "cell_type": "markdown",
   "id": "9e315346-260d-4f72-862a-45c4254ebc16",
   "metadata": {},
   "source": [
    "                     Day 1 - This is the first class of python"
   ]
  },
  {
   "cell_type": "markdown",
   "id": "e3eb71f2-7d65-434d-a46a-39e9b781bb95",
   "metadata": {},
   "source": [
    "We are going to write our first program"
   ]
  },
  {
   "cell_type": "code",
   "execution_count": 14,
   "id": "e68c9783-4b86-427d-98f3-5ef8ef23342e",
   "metadata": {},
   "outputs": [
    {
     "name": "stdout",
     "output_type": "stream",
     "text": [
      "Hello World. This is an amazing python class.\n"
     ]
    }
   ],
   "source": [
    "print(\"Hello World. This is an amazing python class.\")"
   ]
  },
  {
   "cell_type": "code",
   "execution_count": 18,
   "id": "0a03f1c5-eded-42a6-ad86-8356ce585a73",
   "metadata": {},
   "outputs": [
    {
     "name": "stdout",
     "output_type": "stream",
     "text": [
      "Bye\n"
     ]
    }
   ],
   "source": [
    "print(\"Bye\")"
   ]
  },
  {
   "cell_type": "markdown",
   "id": "15850cb7-cc9f-48ac-ab1f-9e118565e213",
   "metadata": {},
   "source": [
    "Python comments"
   ]
  },
  {
   "cell_type": "code",
   "execution_count": 21,
   "id": "c2591030-0afe-4c67-abb2-a35a7f0d3269",
   "metadata": {},
   "outputs": [
    {
     "name": "stdout",
     "output_type": "stream",
     "text": [
      "Hello world\n"
     ]
    }
   ],
   "source": [
    "#This is comment\n",
    "print(\"Hello world\")"
   ]
  },
  {
   "cell_type": "markdown",
   "id": "f25ee624-3549-4ccd-8b09-849fa16d0071",
   "metadata": {},
   "source": [
    "Multiline comments"
   ]
  },
  {
   "cell_type": "code",
   "execution_count": 24,
   "id": "87055f44-19e2-4bd2-9a8d-5f4585992f89",
   "metadata": {},
   "outputs": [
    {
     "name": "stdout",
     "output_type": "stream",
     "text": [
      "15\n"
     ]
    }
   ],
   "source": [
    "#This is comment1\n",
    "#This is comment2\n",
    "#This is comment3\n",
    "\n",
    "print(8+7)"
   ]
  },
  {
   "cell_type": "code",
   "execution_count": 26,
   "id": "383f8354-dcdf-4fe9-85ce-23ddc64e5401",
   "metadata": {},
   "outputs": [
    {
     "name": "stdout",
     "output_type": "stream",
     "text": [
      "15\n"
     ]
    }
   ],
   "source": [
    "'''This is our first class of python'''\n",
    "print(7+8)"
   ]
  },
  {
   "cell_type": "markdown",
   "id": "59b3ca1d",
   "metadata": {},
   "source": [
    "# Operators in python"
   ]
  },
  {
   "cell_type": "code",
   "execution_count": 1,
   "id": "84d86324",
   "metadata": {},
   "outputs": [
    {
     "name": "stdout",
     "output_type": "stream",
     "text": [
      "True\n",
      "True\n",
      "False\n",
      "True\n"
     ]
    }
   ],
   "source": [
    "a = 5\n",
    "\n",
    "# chaining comparison operators\n",
    "print(1 < a < 10)\n",
    "print(10 > a <= 9)\n",
    "print(5 != a > 4)\n",
    "print(a < 10 < a*10 == 50)\n"
   ]
  },
  {
   "cell_type": "markdown",
   "id": "a1349584",
   "metadata": {},
   "source": [
    "# Keywords in Python\n",
    "\n"
   ]
  },
  {
   "cell_type": "markdown",
   "id": "3907afdf",
   "metadata": {},
   "source": [
    "* True, False, None Keyword in python"
   ]
  },
  {
   "cell_type": "markdown",
   "id": "6742e2ea",
   "metadata": {},
   "source": [
    "1. True: This keyword is used to represent a boolean true. If a statement is true, “True” is printed.\n",
    "\n",
    "2. False: This keyword is used to represent a boolean false. If a statement is false, “False” is printed. \n",
    "\n",
    "3. None: This is a special constant used to denote a null value or a void.  It’s important to remember, 0, any empty container(e.g. empty list) does not compute to None. \n",
    "\n",
    "##### It is an object of its datatype – NoneType. It is not possible to create multiple None objects and can assign them to variables."
   ]
  },
  {
   "cell_type": "code",
   "execution_count": 2,
   "id": "67169ed4",
   "metadata": {},
   "outputs": [
    {
     "name": "stdout",
     "output_type": "stream",
     "text": [
      "True\n",
      "True\n",
      "3\n",
      "1\n",
      "False\n",
      "False\n"
     ]
    }
   ],
   "source": [
    "print(False == 0)\n",
    "print(True == 1)\n",
    " \n",
    "print(True + True + True)\n",
    "print(True + False + False)\n",
    " \n",
    "print(None == 0)\n",
    "print(None == [])"
   ]
  },
  {
   "cell_type": "markdown",
   "id": "86a67fae",
   "metadata": {},
   "source": [
    "# pass"
   ]
  },
  {
   "cell_type": "markdown",
   "id": "08afff03",
   "metadata": {},
   "source": [
    "pass is the null statement in python. Nothing happens when this is encountered. This is used to prevent indentation errors and used as a placeholder."
   ]
  },
  {
   "cell_type": "code",
   "execution_count": 5,
   "id": "55e95ffb",
   "metadata": {},
   "outputs": [],
   "source": [
    "for i in range(10):\n",
    "\n",
    "    pass"
   ]
  },
  {
   "cell_type": "markdown",
   "id": "73d73582",
   "metadata": {},
   "source": [
    "# Return keywords in Python- Return , Yield"
   ]
  },
  {
   "cell_type": "markdown",
   "id": "7a0c8234",
   "metadata": {},
   "source": [
    "1. <u>return:</u> This keyword is used to return from the function.\n",
    "\n",
    "2. <u>yield:</u> This keyword is used like return statement but is used to return a generator."
   ]
  },
  {
   "cell_type": "code",
   "execution_count": 10,
   "id": "5f5871e7",
   "metadata": {},
   "outputs": [
    {
     "name": "stdout",
     "output_type": "stream",
     "text": [
      "45\n",
      "0\n",
      "1\n",
      "3\n",
      "6\n",
      "10\n",
      "15\n",
      "21\n",
      "28\n",
      "36\n",
      "45\n"
     ]
    }
   ],
   "source": [
    "\n",
    "# Return keyword\n",
    "def fun():\n",
    "    S = 0\n",
    " \n",
    "    for i in range(10):\n",
    "        S += i\n",
    "        # print(S)\n",
    "    return S\n",
    " \n",
    " \n",
    "print(fun())\n",
    " \n",
    "# Yield Keyword\n",
    " \n",
    " \n",
    "def fun():\n",
    "    S = 0\n",
    " \n",
    "    for i in range(10):\n",
    "        S += i\n",
    "        yield S\n",
    " \n",
    " \n",
    "for i in fun():\n",
    "    print(i)"
   ]
  },
  {
   "cell_type": "markdown",
   "id": "a2d6c5ab",
   "metadata": {},
   "source": [
    "# is vs =="
   ]
  },
  {
   "cell_type": "code",
   "execution_count": 12,
   "id": "c8e332ed",
   "metadata": {},
   "outputs": [
    {
     "name": "stdout",
     "output_type": "stream",
     "text": [
      "False\n",
      "True\n",
      "False\n",
      "False\n"
     ]
    }
   ],
   "source": [
    "x = [\"a\", \"b\", \"c\", \"d\"]\n",
    " \n",
    "y = [\"a\", \"b\", \"c\", \"d\"]\n",
    " \n",
    "print(x is y)\n",
    "print(x == y)\n",
    "\n",
    "a = 9\n",
    "b = 90\n",
    "print(a is b)\n",
    "print(a == b)"
   ]
  }
 ],
 "metadata": {
  "kernelspec": {
   "display_name": "Python 3 (ipykernel)",
   "language": "python",
   "name": "python3"
  },
  "language_info": {
   "codemirror_mode": {
    "name": "ipython",
    "version": 3
   },
   "file_extension": ".py",
   "mimetype": "text/x-python",
   "name": "python",
   "nbconvert_exporter": "python",
   "pygments_lexer": "ipython3",
   "version": "3.11.4"
  }
 },
 "nbformat": 4,
 "nbformat_minor": 5
}
