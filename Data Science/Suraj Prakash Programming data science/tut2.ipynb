{
 "cells": [
  {
   "cell_type": "markdown",
   "id": "eef0a9b1-9938-47bb-ad07-8922edbe4073",
   "metadata": {},
   "source": [
    "                  Variables in Python"
   ]
  },
  {
   "cell_type": "code",
   "execution_count": 15,
   "id": "76a21681-c48f-493a-a81d-f733b1c4ef8b",
   "metadata": {},
   "outputs": [
    {
     "data": {
      "text/plain": [
       "26.0"
      ]
     },
     "execution_count": 15,
     "metadata": {},
     "output_type": "execute_result"
    }
   ],
   "source": [
    "\n",
    "78/3"
   ]
  },
  {
   "cell_type": "markdown",
   "id": "e1fe2651-e9d2-43c4-803d-adbd2df3cd8c",
   "metadata": {},
   "source": [
    "Python has no command for declaring a variable.\n",
    "A variable is created the moment you first assign a value to it.\n",
    "                     "
   ]
  },
  {
   "cell_type": "code",
   "execution_count": 18,
   "id": "2b33a34d-3c35-46c3-8678-9e25d67365ab",
   "metadata": {},
   "outputs": [
    {
     "name": "stdout",
     "output_type": "stream",
     "text": [
      "5\n",
      "John\n"
     ]
    }
   ],
   "source": [
    "x=5\n",
    "y=\"John\"\n",
    "print(x)\n",
    "print(y)"
   ]
  },
  {
   "cell_type": "markdown",
   "id": "d9ac31f1-8530-4778-97c2-6020e7767dca",
   "metadata": {},
   "source": [
    "Variables do not need to be declared with any particular type, and can even change type after they have been set."
   ]
  },
  {
   "cell_type": "markdown",
   "id": "c5fbf9bd",
   "metadata": {},
   "source": []
  },
  {
   "cell_type": "code",
   "execution_count": 22,
   "id": "7d35cf11-0ced-4685-a0a0-32d9768f802c",
   "metadata": {},
   "outputs": [
    {
     "name": "stdout",
     "output_type": "stream",
     "text": [
      "Salary\n"
     ]
    }
   ],
   "source": [
    "x=4\n",
    "x=\"Salary\"\n",
    "print(x)"
   ]
  },
  {
   "cell_type": "markdown",
   "id": "dcd80e09-7305-4e3f-b470-09de1662046c",
   "metadata": {},
   "source": [
    "                       CASTING"
   ]
  },
  {
   "cell_type": "markdown",
   "id": "94eb5d83-70a4-4a56-a479-05982646b6fd",
   "metadata": {},
   "source": [
    "If you want to specify the data type of a variable, this can be done with casting."
   ]
  },
  {
   "cell_type": "code",
   "execution_count": 27,
   "id": "140540dd-c7e4-48fe-bfb2-c803d1d6f97a",
   "metadata": {},
   "outputs": [
    {
     "name": "stdout",
     "output_type": "stream",
     "text": [
      "3\n",
      "3\n",
      "3.0\n"
     ]
    }
   ],
   "source": [
    "x= str(3)\n",
    "y=int(3)\n",
    "z=float(3)\n",
    "print(x)\n",
    "print(y)\n",
    "print(z)"
   ]
  },
  {
   "cell_type": "markdown",
   "id": "51f8c23c-68c2-415e-8025-f49df4a5e2ee",
   "metadata": {},
   "source": [
    "                        Get the type"
   ]
  },
  {
   "cell_type": "markdown",
   "id": "e7df325f-7214-4515-8827-81bb5318f4d0",
   "metadata": {},
   "source": [
    "type() funcion"
   ]
  },
  {
   "cell_type": "code",
   "execution_count": 2,
   "id": "8799aa22-d51d-42d9-8b02-61bf94410b29",
   "metadata": {},
   "outputs": [
    {
     "name": "stdout",
     "output_type": "stream",
     "text": [
      "<class 'int'>\n",
      "<class 'str'>\n"
     ]
    }
   ],
   "source": [
    "x=5\n",
    "y=\"john\"\n",
    "print(type(x))\n",
    "print(type(y))"
   ]
  },
  {
   "cell_type": "markdown",
   "id": "e3821168",
   "metadata": {},
   "source": [
    "   Single or Double Quotes?\n",
    "\n",
    "String variables can be declared either by using single or double quotes:"
   ]
  },
  {
   "cell_type": "code",
   "execution_count": 4,
   "id": "f2840874",
   "metadata": {},
   "outputs": [
    {
     "name": "stdout",
     "output_type": "stream",
     "text": [
      "John\n"
     ]
    }
   ],
   "source": [
    "x=\"John\"\n",
    "#is the same as \n",
    "x='John'\n",
    "print(x)"
   ]
  },
  {
   "cell_type": "markdown",
   "id": "07b90b52",
   "metadata": {},
   "source": [
    "Case- Sensitive\n",
    "\n",
    "variables are case sensitive."
   ]
  },
  {
   "cell_type": "code",
   "execution_count": 5,
   "id": "300affa1",
   "metadata": {},
   "outputs": [
    {
     "name": "stdout",
     "output_type": "stream",
     "text": [
      "4\n",
      "Sally\n"
     ]
    }
   ],
   "source": [
    "a=4\n",
    "A=\"Sally\"\n",
    "print(a)\n",
    "print(A)"
   ]
  },
  {
   "cell_type": "markdown",
   "id": "7f2c6d59",
   "metadata": {},
   "source": [
    "Python Variables- Assign multiple values"
   ]
  },
  {
   "cell_type": "markdown",
   "id": "885200f5",
   "metadata": {},
   "source": [
    "Python allows you to assign values to multiple variables in one variable:"
   ]
  },
  {
   "cell_type": "code",
   "execution_count": 1,
   "id": "9d5e58e8",
   "metadata": {},
   "outputs": [
    {
     "name": "stdout",
     "output_type": "stream",
     "text": [
      "Orange\n",
      "Banana\n",
      "Cherry\n"
     ]
    }
   ],
   "source": [
    "x,y,z = \"Orange\", \"Banana\", \"Cherry\"\n",
    "print(x)\n",
    "print(y)\n",
    "print(z)\n",
    "\n"
   ]
  },
  {
   "cell_type": "code",
   "execution_count": 2,
   "id": "3f79dd6e-7808-4b7f-a44e-8efb63ce34db",
   "metadata": {},
   "outputs": [
    {
     "name": "stdout",
     "output_type": "stream",
     "text": [
      "69\n"
     ]
    }
   ],
   "source": [
    "x,y,z= 1,23,45\n",
    "print(x+y+z)"
   ]
  },
  {
   "cell_type": "code",
   "execution_count": 2,
   "id": "ca2565d5-872a-4354-b1a4-e6f13c6e8631",
   "metadata": {},
   "outputs": [
    {
     "name": "stdout",
     "output_type": "stream",
     "text": [
      "-22\n"
     ]
    }
   ],
   "source": [
    "x,y,z= 1,23,45\n",
    "print (x*y-z)\n"
   ]
  },
  {
   "cell_type": "markdown",
   "id": "770fa8a4",
   "metadata": {},
   "source": [
    "One value to Multiple Variables"
   ]
  },
  {
   "cell_type": "markdown",
   "id": "d887b72a",
   "metadata": {},
   "source": [
    "You can asssign the same value to multiple variables in one line:"
   ]
  },
  {
   "cell_type": "markdown",
   "id": "1ef5cd26",
   "metadata": {},
   "source": [
    "example:"
   ]
  },
  {
   "cell_type": "code",
   "execution_count": 4,
   "id": "09ee0589",
   "metadata": {},
   "outputs": [
    {
     "name": "stdout",
     "output_type": "stream",
     "text": [
      "Orange\n",
      "Orange\n",
      "Orange\n"
     ]
    }
   ],
   "source": [
    "x=y=z=\"Orange\"\n",
    "print(x)\n",
    "print(y)\n",
    "print(z)"
   ]
  },
  {
   "cell_type": "markdown",
   "id": "206a4cfd",
   "metadata": {},
   "source": [
    "Unpack a Collection\n",
    "\n",
    "\n",
    "If you have a collection of values in a list,tuple, etc. Python allows you to extract the values into variable. This is called unpacking."
   ]
  },
  {
   "cell_type": "code",
   "execution_count": 5,
   "id": "125b0aa6",
   "metadata": {},
   "outputs": [
    {
     "name": "stdout",
     "output_type": "stream",
     "text": [
      "apple\n",
      "banana\n",
      "cherry\n"
     ]
    }
   ],
   "source": [
    "fruits = [\"apple\", \"banana\", \"cherry\"]\n",
    "x,y,z=fruits\n",
    "print(x)\n",
    "print(y)\n",
    "print(z)"
   ]
  },
  {
   "cell_type": "markdown",
   "id": "be74ad0b",
   "metadata": {},
   "source": [
    "Python - Output Variables\n",
    "\n",
    "print() function"
   ]
  },
  {
   "cell_type": "code",
   "execution_count": 9,
   "id": "49485965",
   "metadata": {},
   "outputs": [
    {
     "name": "stdout",
     "output_type": "stream",
     "text": [
      "Python is awesome\n",
      "Pythonisawesome\n",
      "Python is awesome\n"
     ]
    }
   ],
   "source": [
    "x = \"Python\"\n",
    "y = \"is\"\n",
    "z = \"awesome\"\n",
    "print(x,y,z)\n",
    "#is same as\n",
    "print(x+ y+ z)\n",
    "#with space\n",
    "x= \"Python \"\n",
    "y = \"is \"\n",
    "z = \"awesome\"\n",
    "print(x+ y+ z)\n"
   ]
  },
  {
   "cell_type": "markdown",
   "id": "7d56e332",
   "metadata": {},
   "source": [
    "In the print() function, when you try to combine a string and a number with the + operator, Python will give you an error:"
   ]
  },
  {
   "cell_type": "code",
   "execution_count": 3,
   "id": "386caa3f",
   "metadata": {},
   "outputs": [
    {
     "ename": "TypeError",
     "evalue": "unsupported operand type(s) for +: 'int' and 'str'",
     "output_type": "error",
     "traceback": [
      "\u001b[1;31m---------------------------------------------------------------------------\u001b[0m",
      "\u001b[1;31mTypeError\u001b[0m                                 Traceback (most recent call last)",
      "Cell \u001b[1;32mIn[3], line 4\u001b[0m\n\u001b[0;32m      1\u001b[0m x \u001b[38;5;241m=\u001b[39m \u001b[38;5;241m5\u001b[39m\n\u001b[0;32m      2\u001b[0m y \u001b[38;5;241m=\u001b[39m \u001b[38;5;124m\"\u001b[39m\u001b[38;5;124mPython\u001b[39m\u001b[38;5;124m\"\u001b[39m\n\u001b[1;32m----> 4\u001b[0m \u001b[38;5;28mprint\u001b[39m(\u001b[43mx\u001b[49m\u001b[38;5;241;43m+\u001b[39;49m\u001b[43my\u001b[49m)\n\u001b[0;32m      5\u001b[0m \u001b[38;5;66;03m# except:print(x, y)\u001b[39;00m\n",
      "\u001b[1;31mTypeError\u001b[0m: unsupported operand type(s) for +: 'int' and 'str'"
     ]
    }
   ],
   "source": [
    "x = 5\n",
    "y = \"Python\"\n",
    "\n",
    "print(x+y)\n"
   ]
  },
  {
   "cell_type": "markdown",
   "id": "f63ec1f6",
   "metadata": {},
   "source": [
    "The best way to output multiple variables in the print() function is to separate them with commas, which even support different data types:"
   ]
  },
  {
   "cell_type": "code",
   "execution_count": 11,
   "id": "6dc6f25e",
   "metadata": {},
   "outputs": [
    {
     "name": "stdout",
     "output_type": "stream",
     "text": [
      "5 John\n"
     ]
    }
   ],
   "source": [
    "x = 5\n",
    "y = \"John\"\n",
    "print(x, y)"
   ]
  },
  {
   "cell_type": "markdown",
   "id": "ef5ae5c4",
   "metadata": {},
   "source": [
    "Python- Global Variables\n",
    "\n",
    "Variables that are created outside of a function (as in all of the examples above) are known as global variables.\n"
   ]
  },
  {
   "cell_type": "code",
   "execution_count": 12,
   "id": "be015b4d",
   "metadata": {},
   "outputs": [
    {
     "name": "stdout",
     "output_type": "stream",
     "text": [
      "Python is awesome\n"
     ]
    }
   ],
   "source": [
    "x = \"awesome\"\n",
    "\n",
    "def myfunc():\n",
    "    print(\"Python is \"+ x)\n",
    "\n",
    "myfunc()"
   ]
  },
  {
   "cell_type": "markdown",
   "id": "efd33d7e",
   "metadata": {},
   "source": [
    "If you create a variable with the same name inside a function, this variable will be local, and can only be used inside the function. The global variable with the same name will remain as it was, global and with the original value."
   ]
  },
  {
   "cell_type": "code",
   "execution_count": 13,
   "id": "c5a9f427",
   "metadata": {},
   "outputs": [
    {
     "name": "stdout",
     "output_type": "stream",
     "text": [
      "Python is fantastic\n",
      "python is awesome\n"
     ]
    }
   ],
   "source": [
    "x = \"awesome\"\n",
    "\n",
    "def myfunc():\n",
    "    x=\"fantastic\"\n",
    "    print(\"Python is \" + x)\n",
    "\n",
    "myfunc()\n",
    "\n",
    "print(\"python is \"+ x)"
   ]
  },
  {
   "cell_type": "markdown",
   "id": "4b564bd2",
   "metadata": {},
   "source": [
    "       The global keyword\n",
    "\n",
    "\n",
    "Normally, when you create a variable inside a function, that variable is local, and can only be used inside that function.\n",
    "\n",
    "To create a global variable inside a function, you can use the global keyword.\n"
   ]
  },
  {
   "cell_type": "code",
   "execution_count": 5,
   "id": "fabda5f1",
   "metadata": {},
   "outputs": [
    {
     "name": "stdout",
     "output_type": "stream",
     "text": [
      "Python is fantastic\n",
      "Python is fantastic\n"
     ]
    }
   ],
   "source": [
    "def myfunc():\n",
    "    global x;\n",
    "    x = \"fantastic\"\n",
    "    print(\"Python is \"+ x)\n",
    "\n",
    "myfunc()\n",
    "\n",
    "print(\"Python is \"+ x)"
   ]
  },
  {
   "cell_type": "markdown",
   "id": "d0e41c17",
   "metadata": {},
   "source": [
    "use the global keyword if you want to change a global variable inside a function"
   ]
  },
  {
   "cell_type": "code",
   "execution_count": 17,
   "id": "baf7bc32",
   "metadata": {},
   "outputs": [
    {
     "name": "stdout",
     "output_type": "stream",
     "text": [
      "Python is fantastic\n"
     ]
    }
   ],
   "source": [
    "x = \"awesome\"\n",
    "\n",
    "def myfunc():\n",
    "    global x\n",
    "    x = \"fantastic\"\n",
    "\n",
    "myfunc()\n",
    "\n",
    "print(\"Python is \" + x)"
   ]
  }
 ],
 "metadata": {
  "kernelspec": {
   "display_name": "Python 3 (ipykernel)",
   "language": "python",
   "name": "python3"
  },
  "language_info": {
   "codemirror_mode": {
    "name": "ipython",
    "version": 3
   },
   "file_extension": ".py",
   "mimetype": "text/x-python",
   "name": "python",
   "nbconvert_exporter": "python",
   "pygments_lexer": "ipython3",
   "version": "3.11.4"
  }
 },
 "nbformat": 4,
 "nbformat_minor": 5
}
