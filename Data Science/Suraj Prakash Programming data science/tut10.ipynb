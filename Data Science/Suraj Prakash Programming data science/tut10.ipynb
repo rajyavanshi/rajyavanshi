{
 "cells": [
  {
   "cell_type": "markdown",
   "metadata": {},
   "source": [
    "# Python Inheritance"
   ]
  },
  {
   "cell_type": "markdown",
   "metadata": {},
   "source": [
    "* Python Inheritance\n",
    "\n",
    "Inheritance allows us to define a class that inherits all the methods and properties from another class.\n",
    "\n",
    "<bold>Parent</bold> class is the class being <i>inherited</i> from, also called <bold>base</bold> class.\n",
    "\n",
    "<bold>Child Class </bold> is the class that inherits from another class, also called <i>derived class</i>.\n",
    "\n"
   ]
  },
  {
   "cell_type": "markdown",
   "metadata": {},
   "source": [
    "# Create a parent Class\n",
    "\n",
    "Any class can be a parent class, so the syntax is the same as creating any other class:"
   ]
  },
  {
   "cell_type": "code",
   "execution_count": 1,
   "metadata": {},
   "outputs": [
    {
     "name": "stdout",
     "output_type": "stream",
     "text": [
      "John Doe\n"
     ]
    }
   ],
   "source": [
    "class Person:\n",
    "    def __init__(self, fname, lname):\n",
    "        self.firstname = fname\n",
    "        self.lastname = lname\n",
    "\n",
    "    def printname(self):\n",
    "        print(self.firstname, self.lastname)\n",
    "\n",
    "x = Person(\"John\", \"Doe\")\n",
    "x.printname()  # Output: John Doe"
   ]
  },
  {
   "cell_type": "markdown",
   "metadata": {},
   "source": [
    "# Create a Child Class\n",
    "\n",
    "To create a class that inherits the functionality from another class, send the parent class as a parameter when creating the child class:\n",
    "\n"
   ]
  },
  {
   "cell_type": "code",
   "execution_count": 3,
   "metadata": {},
   "outputs": [
    {
     "name": "stdout",
     "output_type": "stream",
     "text": [
      "Suraj Prakash\n"
     ]
    }
   ],
   "source": [
    "class Student(Person):\n",
    "    pass\n",
    "\n",
    "x = Student (\"Suraj\", \n",
    "             'Prakash')\n",
    "\n",
    "x.printname()"
   ]
  },
  {
   "cell_type": "markdown",
   "metadata": {},
   "source": [
    "Note: Use the pass keyword when you do not want to add any other properties or methods to the class."
   ]
  },
  {
   "cell_type": "code",
   "execution_count": 19,
   "metadata": {},
   "outputs": [
    {
     "name": "stdout",
     "output_type": "stream",
     "text": [
      "Hi, I am Suraj Prakash.\n",
      "I am 20 years old.\n",
      "I am from Chemical Engineering department of BIT Mesra college.\n",
      "I am a 2023 year student of batch 2nd.\n",
      "I am doing my majors in Working of Fluids, Advanced Heat Transfer, Mass Action and \n",
      "minors in Objects Oriented Programming, Data Base Managment System, Computer Architeture, Compiler Design.\n"
     ]
    }
   ],
   "source": [
    "class Person:\n",
    "    def __init__(self, fname, lname, age, dept, college):\n",
    "        self.firstname = fname\n",
    "        self.lastname = lname\n",
    "        self.age = age\n",
    "        self.department = dept\n",
    "        self.college = college\n",
    "\n",
    "    def printname(self):\n",
    "        print(f\"Hi, I am {self.firstname} {self.lastname}.\")\n",
    "        print(f\"I am {self.age} years old.\")\n",
    "        print(f\"I am from {self.department} department of {self.college} college.\")\n",
    "\n",
    "class Student(Person):\n",
    "    def __init__(self, fname, lname, age, dept, college, batch, year ):\n",
    "        super().__init__(fname, lname, age, dept, college)\n",
    "        self.major = []\n",
    "        self.minor = []\n",
    "        self.batch = batch\n",
    "        self.year = year\n",
    "\n",
    "    def intro(self):\n",
    "        major = ', '.join(self.major)\n",
    "        minor = ', '.join(self.minor)\n",
    "        print(f\"I am a {self.year} year student of batch {self.batch}.\")\n",
    "        print(f\"I am doing my majors in {major} and \\nminors in {minor}.\")\n",
    "\n",
    "class Professor(Person):\n",
    "    def __init__(self,fname, lname, age, dept, college, phd,  currfield, suphd ):\n",
    "        #foi : field of interests\n",
    "        #currfield : cureent working field\n",
    "        #suphd : No of phd students working under that particular professor\n",
    "        super().__init__(fname, lname, age, dept, college)\n",
    "        self.phd = phd\n",
    "        self.thesis = []\n",
    "        self.foi = []\n",
    "        self.currfield = currfield\n",
    "        self.suphd = suphd\n",
    "\n",
    "    def intro(self):\n",
    "        thesis = \" \".join(self.thesis)\n",
    "        foi = \" \".join(self.foi)\n",
    "        print(f\"I have a phd in {self.phd}.\")\n",
    "        print(f\"My thesis was on {thesis}.\")\n",
    "        print(f\"My field of interests are {foi}.\")\n",
    "        print(f\"I am currently working in {self.currfield}.\")\n",
    "        print(f\"I have {self.suphd} phd students working under me.\")\n",
    "\n",
    "\n",
    "st1 = Student( \"Suraj\",\"Prakash\",20,\"Chemical Engineering\", \"BIT Mesra\", \"2nd\" , 2023)\n",
    "st1.major = [\"Working of Fluids\", \"Advanced Heat Transfer\", \"Mass Action\"]\n",
    "st1.minor = [\"Objects Oriented Programming\", \"Data Base Managment System\", \"Computer Architeture\",\"Compiler Design\"]\n",
    "st1.printname()\n",
    "st1.intro()\n",
    "\n",
    "\n"
   ]
  },
  {
   "cell_type": "markdown",
   "metadata": {},
   "source": [
    "# Add the init function\n",
    "\n",
    "So far we have created a child class that inherits the properties and methods from its parent.\n",
    "\n",
    "We want to add the __init__() function to the child class (instead of the pass keyword)."
   ]
  },
  {
   "cell_type": "markdown",
   "metadata": {},
   "source": [
    "* NOTE: \n",
    "1. When you add the __init__() function, the child class will no longer inherit the parent's __init__() function.\n",
    "2. The child's __init__() function overrides the inheritance of the parent's __init__() function.\n",
    "3. If you want to keep the inheritance of the parent's __init__() function, you need\n",
    "to call the parent's __init__() function from the child's __init__() function using super or parent name\n",
    "\n"
   ]
  },
  {
   "cell_type": "code",
   "execution_count": 20,
   "metadata": {},
   "outputs": [
    {
     "name": "stdout",
     "output_type": "stream",
     "text": [
      "Mike Olsen\n"
     ]
    }
   ],
   "source": [
    "class Person:\n",
    "  def __init__(self, fname, lname):\n",
    "    self.firstname = fname\n",
    "    self.lastname = lname\n",
    "\n",
    "  def printname(self):\n",
    "    print(self.firstname, self.lastname)\n",
    "\n",
    "class Student(Person):\n",
    "  def __init__(self, fname, lname):\n",
    "    Person.__init__(self, fname, lname)\n",
    "\n",
    "x = Student(\"Mike\", \"Olsen\")\n",
    "x.printname()\n"
   ]
  },
  {
   "cell_type": "code",
   "execution_count": 21,
   "metadata": {},
   "outputs": [
    {
     "name": "stdout",
     "output_type": "stream",
     "text": [
      "Mike Olsen\n"
     ]
    }
   ],
   "source": [
    "class Person:\n",
    "  def __init__(self, fname, lname):\n",
    "    self.firstname = fname\n",
    "    self.lastname = lname\n",
    "\n",
    "  def printname(self):\n",
    "    print(self.firstname, self.lastname)\n",
    "\n",
    "class Student(Person):\n",
    "  def __init__(self, fname, lname):\n",
    "    super().__init__(fname, lname)\n",
    "\n",
    "x = Student(\"Mike\", \"Olsen\")\n",
    "x.printname()"
   ]
  }
 ],
 "metadata": {
  "kernelspec": {
   "display_name": "Python 3",
   "language": "python",
   "name": "python3"
  },
  "language_info": {
   "codemirror_mode": {
    "name": "ipython",
    "version": 3
   },
   "file_extension": ".py",
   "mimetype": "text/x-python",
   "name": "python",
   "nbconvert_exporter": "python",
   "pygments_lexer": "ipython3",
   "version": "3.11.4"
  }
 },
 "nbformat": 4,
 "nbformat_minor": 2
}
