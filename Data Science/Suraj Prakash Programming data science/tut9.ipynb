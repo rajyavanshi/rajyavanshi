{
 "cells": [
  {
   "cell_type": "markdown",
   "metadata": {},
   "source": [
    "# Python Classes and Objects"
   ]
  },
  {
   "cell_type": "markdown",
   "metadata": {},
   "source": [
    "Python is an object oriented programming language.\n",
    "\n",
    "Almost  everything in python is an object, with its properties and methods.\n",
    "\n",
    "A class is like an object constructor, or a \"blueprint\" for creating objects."
   ]
  },
  {
   "cell_type": "markdown",
   "metadata": {},
   "source": [
    "* The __init__() function\n",
    "\n",
    "All classes have a function called __init__(), which is always executed when the class is being initiated.\n",
    "\n",
    "Use the __init__() function to assign values to object properties, or other operations that are necessary to do when the object is being created:"
   ]
  },
  {
   "cell_type": "code",
   "execution_count": 3,
   "metadata": {},
   "outputs": [],
   "source": [
    "\n",
    "class Person:\n",
    "  def __init__(self):\n",
    "    self.name = name\n",
    "    self.age = age\n",
    "\n",
    "p1 = Person(\"John\", 36)\n",
    "\n",
    "print(p1.name)\n",
    "print(p1.age)\n",
    "\n"
   ]
  },
  {
   "cell_type": "markdown",
   "metadata": {},
   "source": [
    "* The __str__() Function"
   ]
  },
  {
   "cell_type": "markdown",
   "metadata": {},
   "source": [
    "The __str__() function controls what should be returned when the class object is represented as a string.\n",
    "\n",
    "If the __str__() function is not set, the string representation of the object is returned:"
   ]
  },
  {
   "cell_type": "code",
   "execution_count": 4,
   "metadata": {},
   "outputs": [
    {
     "name": "stdout",
     "output_type": "stream",
     "text": [
      "<__main__.Person object at 0x00000247F522CAD0>\n"
     ]
    }
   ],
   "source": [
    "class Person:\n",
    "  def __init__(self, name, age):\n",
    "    self.name = name\n",
    "    self.age = age\n",
    "\n",
    "p1 = Person(\"John\", 36)\n",
    "\n",
    "print(p1)"
   ]
  },
  {
   "cell_type": "code",
   "execution_count": 5,
   "metadata": {},
   "outputs": [
    {
     "name": "stdout",
     "output_type": "stream",
     "text": [
      "John(36)\n"
     ]
    }
   ],
   "source": [
    "class Person:\n",
    "  def __init__(self, name, age):\n",
    "    self.name = name\n",
    "    self.age = age\n",
    "\n",
    "  def __str__(self):\n",
    "    return f\"{self.name}({self.age})\"\n",
    "\n",
    "p1 = Person(\"John\", 36)\n",
    "\n",
    "print(p1)"
   ]
  },
  {
   "cell_type": "markdown",
   "metadata": {},
   "source": [
    "* Object Methods"
   ]
  },
  {
   "cell_type": "markdown",
   "metadata": {},
   "source": [
    "Objects can also contain methods. Methods in objects are functions that belong to the object."
   ]
  },
  {
   "cell_type": "code",
   "execution_count": 10,
   "metadata": {},
   "outputs": [
    {
     "name": "stdout",
     "output_type": "stream",
     "text": [
      "Hello my name is john\n"
     ]
    }
   ],
   "source": [
    "class Person:\n",
    "    def __init__(self, name, age):\n",
    "        self.name = name\n",
    "        self.age = age\n",
    "        self.id = id(self)\n",
    "        # print(self.id)\n",
    "\n",
    "    def myFunc(self):\n",
    "        print(\"Hello my name is \"+ self.name)\n",
    "\n",
    "p1 = Person(\"john\", 36)\n",
    "# p1 = Person(\"johnny\", 36)\n",
    "p1.myFunc() "
   ]
  },
  {
   "cell_type": "markdown",
   "metadata": {},
   "source": [
    "<h5><bold>NOTE : </bold>The self parameter is a reference to the current instance of the class, and is used to access variables that belong to the class.</h5>"
   ]
  },
  {
   "cell_type": "markdown",
   "metadata": {},
   "source": [
    "* The self Parameter\n",
    "\n",
    "The self parameter is a reference to the current instance of the class, and is used to access variable that belonngs to the class.\n",
    "\n",
    "It does not have to be named self , you can call it whatever you like, but it has to be the first parameter of any function in the class:"
   ]
  },
  {
   "cell_type": "code",
   "execution_count": 11,
   "metadata": {},
   "outputs": [
    {
     "name": "stdout",
     "output_type": "stream",
     "text": [
      "Hello my name is John\n"
     ]
    }
   ],
   "source": [
    "class Person:\n",
    "  def __init__(mysillyobject, name, age):\n",
    "    mysillyobject.name = name\n",
    "    mysillyobject.age = age\n",
    "\n",
    "  def myfunc(abc):\n",
    "    print(\"Hello my name is \" + abc.name)\n",
    "\n",
    "p1 = Person(\"John\", 36)\n",
    "p1.myfunc()"
   ]
  },
  {
   "cell_type": "markdown",
   "metadata": {},
   "source": [
    "Properties of an object can be modified."
   ]
  },
  {
   "cell_type": "code",
   "execution_count": 36,
   "metadata": {},
   "outputs": [
    {
     "name": "stdout",
     "output_type": "stream",
     "text": [
      "Suraj is a student having grade A+ and opting for \n",
      " Python Maths Science \n",
      "courses\n",
      "Suraj is a student having grade A+ and opting for \n",
      " Python Maths Data-Science \n",
      "courses\n",
      "Suraj is a student having grade A+ and opting for \n",
      " Python Statsistics Data-Science \n",
      "courses\n"
     ]
    }
   ],
   "source": [
    "class student:\n",
    "    def __init__(self, name, age, grade):\n",
    "        self.name = name\n",
    "        self.age = age\n",
    "        self.grade = grade\n",
    "        self.courses = []\n",
    "        \n",
    "\n",
    "    def myfunc(self):\n",
    "        course = \" \".join(self.courses)\n",
    "        print(f\"{self.name} is a student having grade {self.grade} and opting for \\n {course} \\ncourses\")\n",
    "\n",
    "std1 = student(\"Suraj\",20,\"A+\")\n",
    "# std1.courses = [\"Python\", \"Maths\", \"Science\"]\n",
    "std1.courses.append(\"Python\")\n",
    "std1.courses.append(\"Maths\")\n",
    "std1.courses.append(\"Science\")\n",
    "std1.myfunc()\n",
    "\n",
    "std1.courses[2] = \"Data-Science\"\n",
    "std1.myfunc()\n",
    "std1.courses[1] = \"Statsistics\"\n",
    "std1.myfunc()\n",
    "\n",
    "    "
   ]
  },
  {
   "cell_type": "markdown",
   "metadata": {},
   "source": [
    "* Delete Object Properties\n",
    "\n",
    ">>del keyword"
   ]
  },
  {
   "cell_type": "code",
   "execution_count": 12,
   "metadata": {},
   "outputs": [
    {
     "ename": "AttributeError",
     "evalue": "'student' object has no attribute 'age'",
     "output_type": "error",
     "traceback": [
      "\u001b[1;31m---------------------------------------------------------------------------\u001b[0m",
      "\u001b[1;31mAttributeError\u001b[0m                            Traceback (most recent call last)",
      "Cell \u001b[1;32mIn[12], line 15\u001b[0m\n\u001b[0;32m     13\u001b[0m std1 \u001b[38;5;241m=\u001b[39m student(\u001b[38;5;124m\"\u001b[39m\u001b[38;5;124mSuraj\u001b[39m\u001b[38;5;124m\"\u001b[39m,\u001b[38;5;241m20\u001b[39m,\u001b[38;5;124m\"\u001b[39m\u001b[38;5;124mA+\u001b[39m\u001b[38;5;124m\"\u001b[39m)\n\u001b[0;32m     14\u001b[0m \u001b[38;5;28;01mdel\u001b[39;00m std1\u001b[38;5;241m.\u001b[39mage\n\u001b[1;32m---> 15\u001b[0m \u001b[38;5;28mprint\u001b[39m(\u001b[43mstd1\u001b[49m\u001b[38;5;241;43m.\u001b[39;49m\u001b[43mage\u001b[49m)\n",
      "\u001b[1;31mAttributeError\u001b[0m: 'student' object has no attribute 'age'"
     ]
    }
   ],
   "source": [
    "class student:\n",
    "    def __init__(self, name, age, grade):\n",
    "        self.name = name\n",
    "        self.age = age\n",
    "        self.grade = grade\n",
    "        self.courses = []\n",
    "        \n",
    "\n",
    "    def myfunc(self):\n",
    "        course = \" \".join(self.courses)\n",
    "        print(f\"{self.name} is a student having grade {self.grade} and opting for \\n {course} \\ncourses\")\n",
    "\n",
    "std1 = student(\"Suraj\",20,\"A+\")\n",
    "del std1.age\n",
    "print(std1.age)"
   ]
  },
  {
   "cell_type": "markdown",
   "metadata": {},
   "source": [
    "* The pass Statement\n",
    "\n",
    "class definitions cannot be empty, but if you for some reason have a class definition with no content, put in the pass statement to avoid getting an error."
   ]
  },
  {
   "cell_type": "code",
   "execution_count": 13,
   "metadata": {},
   "outputs": [],
   "source": [
    "class Person:\n",
    "    pass"
   ]
  }
 ],
 "metadata": {
  "kernelspec": {
   "display_name": "Python 3 (ipykernel)",
   "language": "python",
   "name": "python3"
  },
  "language_info": {
   "codemirror_mode": {
    "name": "ipython",
    "version": 3
   },
   "file_extension": ".py",
   "mimetype": "text/x-python",
   "name": "python",
   "nbconvert_exporter": "python",
   "pygments_lexer": "ipython3",
   "version": "3.11.4"
  }
 },
 "nbformat": 4,
 "nbformat_minor": 4
}
