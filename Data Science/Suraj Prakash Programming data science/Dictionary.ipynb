{
 "cells": [
  {
   "cell_type": "markdown",
   "metadata": {},
   "source": [
    "# Dictionary creation"
   ]
  },
  {
   "cell_type": "markdown",
   "metadata": {},
   "source": [
    "method 1:"
   ]
  },
  {
   "cell_type": "code",
   "execution_count": 7,
   "metadata": {},
   "outputs": [
    {
     "name": "stdout",
     "output_type": "stream",
     "text": [
      "{1: 'Python', 2: 'dictionary', 3: 'example'}\n"
     ]
    }
   ],
   "source": [
    "dicto = {\n",
    "    1: \"Python\" ,\n",
    "    2: \"dictionary\" ,\n",
    "    3: \"example\" ,\n",
    "}\n",
    "\n",
    "print (dicto)"
   ]
  },
  {
   "cell_type": "markdown",
   "metadata": {},
   "source": [
    "method 2:"
   ]
  },
  {
   "cell_type": "code",
   "execution_count": 1,
   "metadata": {},
   "outputs": [
    {
     "name": "stdout",
     "output_type": "stream",
     "text": [
      "\n",
      "Dictionary with each item as a pair: \n",
      "{1: 'Geeks', 2: 'For'}\n"
     ]
    }
   ],
   "source": [
    "Dict = dict([(1, 'Geeks'), (2, 'For')])\n",
    "print(\"\\nDictionary with each item as a pair: \")\n",
    "print(Dict)\n"
   ]
  },
  {
   "cell_type": "markdown",
   "metadata": {},
   "source": [
    "method 3:"
   ]
  },
  {
   "cell_type": "code",
   "execution_count": 1,
   "metadata": {},
   "outputs": [
    {
     "name": "stdout",
     "output_type": "stream",
     "text": [
      "\n",
      "Dictionary with the use of dict(): \n",
      "{1: 'Geeks', 2: 'For', 3: 'Geeks'}\n"
     ]
    }
   ],
   "source": [
    "Dict = dict({1: 'Geeks', 2: 'For', 3: 'Geeks'})\n",
    "print(\"\\nDictionary with the use of dict(): \")\n",
    "print(Dict)"
   ]
  },
  {
   "cell_type": "markdown",
   "metadata": {},
   "source": [
    "* Complexities for Creating a Dictionary:\n",
    "* The complexity of creating a dictionary is O(n) where n is the number of key-value\n",
    "pairs in the dictionary. This is because each key-value pair must be added to the dictionary, and the time complexity of adding a key-value pair is O(1). Therefore,\n",
    "the total time complexity of creating a dictionary is O(n).\n",
    "\n"
   ]
  },
  {
   "cell_type": "markdown",
   "metadata": {},
   "source": [
    "# Adding Elements to a Dictionary"
   ]
  },
  {
   "cell_type": "code",
   "execution_count": 2,
   "metadata": {},
   "outputs": [
    {
     "name": "stdout",
     "output_type": "stream",
     "text": [
      "Empty Dictionary: \n",
      "{}\n",
      "\n",
      "Dictionary after adding 3 elements: \n",
      "{0: 'Geeks', 2: 'For', 3: 1}\n",
      "\n",
      "Dictionary after adding 3 elements: \n",
      "{0: 'Geeks', 2: 'For', 3: 1, 'Value_set': (2, 3, 4)}\n",
      "\n",
      "Updated key value: \n",
      "{0: 'Geeks', 2: 'Welcome', 3: 1, 'Value_set': (2, 3, 4)}\n",
      "\n",
      "Adding a Nested Key: \n",
      "{0: 'Geeks', 2: 'Welcome', 3: 1, 'Value_set': (2, 3, 4), 5: {'Nested': {'1': 'Life', '2': 'Geeks'}}}\n"
     ]
    }
   ],
   "source": [
    "Dict = {}\n",
    "print(\"Empty Dictionary: \")\n",
    "print(Dict)\n",
    "Dict[0] = 'Geeks'\n",
    "Dict[2] = 'For'\n",
    "Dict[3] = 1\n",
    "print(\"\\nDictionary after adding 3 elements: \")\n",
    "print(Dict)\n",
    "\n",
    "Dict['Value_set'] = 2, 3, 4\n",
    "print(\"\\nDictionary after adding 3 elements: \")\n",
    "print(Dict)\n",
    "\n",
    "Dict[2] = 'Welcome'\n",
    "print(\"\\nUpdated key value: \")\n",
    "print(Dict)\n",
    "Dict[5] = {'Nested': {'1': 'Life', '2': 'Geeks'}}\n",
    "print(\"\\nAdding a Nested Key: \")\n",
    "print(Dict)\n"
   ]
  },
  {
   "cell_type": "markdown",
   "metadata": {},
   "source": [
    "* Python Dictionary setdefault() Method"
   ]
  },
  {
   "cell_type": "markdown",
   "metadata": {},
   "source": [
    "Syntax: dict.setdefault(key, default_value)\n",
    "Parameters: It takes two parameters: \n",
    "\n",
    "key – Key to be searched in the dictionary.\n",
    "\n",
    "default_value (optional) – Key with a value default_value is inserted to the dictionary if key is not in the dictionary. If not provided, the default_value will be None.\n",
    "\n",
    "Returns: \n",
    "\n",
    "Value of the key if it is in the dictionary. \n",
    "\n",
    "None if key is not in the dictionary and default_value is not specified. \n",
    "\n",
    "default_value if key is not in the dictionary and default_value is specified."
   ]
  },
  {
   "cell_type": "markdown",
   "metadata": {},
   "source": [
    "1. If we use Python Dictionary setdefault() method on any existing key of a dictionary, it’ll return the value of the existing key, but will not modify the dictionary key."
   ]
  },
  {
   "cell_type": "code",
   "execution_count": 3,
   "metadata": {},
   "outputs": [
    {
     "name": "stdout",
     "output_type": "stream",
     "text": [
      "setdefault() returned: 98\n",
      "After using setdefault(): {'a': 97, 'b': 98}\n"
     ]
    }
   ],
   "source": [
    "d = {'a': 97, 'b': 98} \n",
    "print(\"setdefault() returned:\", d.setdefault('b', 99)) \n",
    "print(\"After using setdefault():\", d)"
   ]
  },
  {
   "cell_type": "markdown",
   "metadata": {},
   "source": [
    "2. If we use setdefault() method on any non-existing key of a dictionary, it’ll return the new value added and update the dictionary with the key, value pair."
   ]
  },
  {
   "cell_type": "code",
   "execution_count": 4,
   "metadata": {},
   "outputs": [
    {
     "name": "stdout",
     "output_type": "stream",
     "text": [
      "Dictionary before using setdefault(): {'A': 'Geeks', 'B': 'For'}\n",
      "Return value of setdefault(): Geeks\n",
      "Dictionary after using setdefault(): {'A': 'Geeks', 'B': 'For', 'C': 'Geeks'}\n"
     ]
    }
   ],
   "source": [
    "Dictionary1 = { 'A': 'Geeks', 'B': 'For'} \n",
    "print(\"Dictionary before using setdefault():\", Dictionary1) \n",
    "  \n",
    "# using setdefault() when key is non-existing \n",
    "ret_value = Dictionary1.setdefault('C', \"Geeks\") \n",
    "print(\"Return value of setdefault():\", ret_value) \n",
    "  \n",
    "print(\"Dictionary after using setdefault():\", Dictionary1)"
   ]
  },
  {
   "cell_type": "markdown",
   "metadata": {},
   "source": [
    "### How to create a Dictionary in Python"
   ]
  },
  {
   "cell_type": "code",
   "execution_count": 13,
   "metadata": {},
   "outputs": [
    {
     "name": "stdout",
     "output_type": "stream",
     "text": [
      "{'a': [1, 3], 'b': [2], 'c': [4]}\n"
     ]
    }
   ],
   "source": [
    "Dict = {}\n",
    "\n",
    "thislist = [['a',1],['b',2],['a',3],['c',4]]\n",
    "\n",
    "for i in range(len(thislist)):\n",
    "    if thislist[i][0] in Dict:\n",
    "        Dict[thislist[i][0]].append(thislist[i][1])\n",
    "\n",
    "    else:\n",
    "        Dict[thislist[i][0]]=[thislist[i][1]]      \n",
    "\n",
    "print(Dict)"
   ]
  },
  {
   "cell_type": "code",
   "execution_count": 14,
   "metadata": {},
   "outputs": [
    {
     "name": "stdout",
     "output_type": "stream",
     "text": [
      "{'Nested Things': [{'thing one', 'name'}, {'thing two', 'name'}], 'More and more Nested Things': [{'thing three', 'name'}, {'thing four', 'name'}]}\n"
     ]
    }
   ],
   "source": [
    "# Key to be added\n",
    "key_ref1 = 'More Nested Things'\n",
    "key_ref2 = 'More and more Nested Things'\n",
    "my_dict = {\n",
    "    'Nested Things': [{'name', 'thing one'}, {'name', 'thing two'}]\n",
    "}\n",
    " \n",
    "# Value to be added\n",
    "my_list_of_things = [{'name', 'thing three'}, {'name', 'thing four'}]\n",
    " \n",
    "# try-except to take care of errors\n",
    "# while adding key-value pair\n",
    "try:\n",
    "    my_dict[key_ref1].append(my_list_of_things)\n",
    "     \n",
    "except KeyError:\n",
    "    my_dict = {**my_dict, **{key_ref2: my_list_of_things}}\n",
    "     \n",
    "print(my_dict)"
   ]
  },
  {
   "cell_type": "markdown",
   "metadata": {},
   "source": [
    "### Get length of dictionary in python"
   ]
  },
  {
   "cell_type": "markdown",
   "metadata": {},
   "source": [
    "* Basic dictionary without nesting"
   ]
  },
  {
   "cell_type": "code",
   "execution_count": 15,
   "metadata": {},
   "outputs": [
    {
     "name": "stdout",
     "output_type": "stream",
     "text": [
      "Dictionary: {'Name': 'Steve', 'Age': 30, 'Designation': 'Programmer'}\n",
      "Length of dictionary: 3\n"
     ]
    }
   ],
   "source": [
    "dict1 ={'Name':'Steve', 'Age':30, 'Designation':'Programmer'}\n",
    " \n",
    "print(\"Dictionary:\", dict1)\n",
    "print(\"Length of dictionary:\", len(dict1))"
   ]
  },
  {
   "cell_type": "markdown",
   "metadata": {},
   "source": [
    "* Nested Dictionary"
   ]
  },
  {
   "cell_type": "code",
   "execution_count": 16,
   "metadata": {},
   "outputs": [
    {
     "name": "stdout",
     "output_type": "stream",
     "text": [
      "len() method : 4\n",
      "len() method with keys() : 4\n",
      "len() method with values(): 4\n"
     ]
    }
   ],
   "source": [
    "# A nested dictionary\n",
    "dict2 = {  # outer dictionary\n",
    "    'Name': 'Steve',\n",
    "    'Age': 30,\n",
    "    'Designation': 'Programmer',\n",
    "    'address': {  # inner dictionary\n",
    "           'Street': 'Brigade Road',\n",
    "           'City': 'Bangalore',\n",
    "           'Country': 'India'\n",
    "    }\n",
    "}\n",
    "print(\"len() method :\", len(dict2))\n",
    "print(\"len() method with keys() :\", len(dict2.keys()))\n",
    "print(\"len() method with values():\", len(dict2.values()))"
   ]
  },
  {
   "cell_type": "markdown",
   "metadata": {},
   "source": [
    "Here, whichever method you apply, You will get only ‘4’ as the output. But the actual number of entries is ‘7’. The keys are name, age, designation, address, street, city, and country. The method considers the outer dictionary which is a value for one of the keys as a single value.\n",
    "\n",
    "To overcome this problem, we need to explicitly add the length of the inner dictionary to the outer one. It can be coded as given below: "
   ]
  },
  {
   "cell_type": "code",
   "execution_count": 17,
   "metadata": {},
   "outputs": [
    {
     "name": "stdout",
     "output_type": "stream",
     "text": [
      "The length of the nested dictionary is: 7\n"
     ]
    }
   ],
   "source": [
    "# A nested dictionary\n",
    "dict2 ={                   \n",
    "       'Name':'Steve',\n",
    "       'Age':30,\n",
    "       'Designation':'Programmer',\n",
    "       'address':\n",
    "              {\n",
    "           'Street':'Brigade Road',\n",
    "           'City':'Bangalore',\n",
    "           'Country':'India'\n",
    "              }\n",
    "      }\n",
    " \n",
    "# total length = length of outer dict +\n",
    "# length of inner dict\n",
    "length = len(dict2)+len(dict2['address'])\n",
    " \n",
    "print(\"The length of the nested dictionary is:\", length)"
   ]
  },
  {
   "cell_type": "markdown",
   "metadata": {},
   "source": [
    "Now it works fine!!! However, is it possible to explicitly program to add the length of inner dictionaries every time? What if we do not know in prior how many inner dictionaries are there? Now consider the following detail:\n",
    "\n",
    "\n",
    "Name:\n",
    "\n",
    "    first name:Steve\n",
    "\n",
    "    last name:Jobs\n",
    "\n",
    "Age:30\n",
    "\n",
    "Designation:Programmer\n",
    "\n",
    "address:\n",
    "      Street:Brigade  Road\n",
    "      City:Bangalore\n",
    "      Country:India\n",
    "\n",
    "\n",
    "Here we have two inner dictionaries. It is not an optimized way to explicitly add the length of the inner dictionaries every time. We can solve this problem by combining isinstance() with len() method. The idea is to first store the length of the whole dictionary in a variable (say ‘length’ here). Then iterate through all the values()of the dictionary and check whether it is an instance of dict. If ‘True’ then the length of that inner dictionary is found and added to the variable length. In this way, the total length of a nested dictionary could be found.\n"
   ]
  },
  {
   "cell_type": "code",
   "execution_count": 18,
   "metadata": {},
   "outputs": [
    {
     "name": "stdout",
     "output_type": "stream",
     "text": [
      "The length of the dictionary is 9\n"
     ]
    }
   ],
   "source": [
    "# nested dictionary\n",
    "dict2 ={\n",
    "       'Name':\n",
    "           {\n",
    "               'first_name':'Steve',\n",
    "               'Last_name':'Jobs'\n",
    "           },\n",
    "       'Age':30,\n",
    "       'Designation':'Programmer',\n",
    "       'address':\n",
    "           {\n",
    "           'Street':'Rockins Road',\n",
    "           'City':'Bangalore',\n",
    "           'Country':'India'\n",
    "           }       \n",
    "      }\n",
    " \n",
    "# storing the outer dictionary length \n",
    "length = len(dict2)\n",
    " \n",
    "# iterating to find the length\n",
    "#  of all inner dictionaries\n",
    "for i in dict2.values():\n",
    "    # checking whether the value is a dictionary\n",
    "    if isinstance(i, dict):\n",
    "        length += len(i)\n",
    "         \n",
    "print(\"The length of the dictionary is\", length)"
   ]
  },
  {
   "cell_type": "markdown",
   "metadata": {},
   "source": [
    "**Note: This approach will only work when the nesting of the dictionaries is only upto 2 levels."
   ]
  },
  {
   "cell_type": "markdown",
   "metadata": {},
   "source": [
    "If the dictionary is further deeply nested like below:\n",
    "\n",
    "Name:\n",
    "\n",
    "    first name:Steve\n",
    "\n",
    "    last name:Jobs\n",
    "\n",
    "Age:30\n",
    "\n",
    "Designation:Programmer\n",
    "\n",
    "address:\n",
    "\n",
    "      Street:\n",
    "\n",
    "          St_number:4\n",
    "\n",
    "          St_name:Brigade  Road\n",
    "          \n",
    "      City:Bangalore\n",
    "      Country:India\n"
   ]
  },
  {
   "cell_type": "markdown",
   "metadata": {},
   "source": [
    "Here we have used a recursive function count_nested_len() to count the length of each dictionary, we iterate on the keys of dictionaries, as soon as a value is a dictionary, we recuse on that dictionary."
   ]
  },
  {
   "cell_type": "code",
   "execution_count": 20,
   "metadata": {},
   "outputs": [
    {
     "name": "stdout",
     "output_type": "stream",
     "text": [
      "Nested dictionary length: 11\n"
     ]
    }
   ],
   "source": [
    "# nested dictionary\n",
    "dict2 ={\n",
    "       'Name':\n",
    "           {\n",
    "               'first_name':'Steve',\n",
    "               'Last_name':'Jobs'\n",
    "           },\n",
    "       'Age':30,\n",
    "       'Designation':'Programmer',\n",
    "       'address':\n",
    "           {\n",
    "           'Street':\n",
    "               {\n",
    "                   'st_number':4,\n",
    "                   'st_name':'Rockins Road'\n",
    "               },\n",
    "           'City':'Bangalore',\n",
    "           'Country':'India'\n",
    "           }       \n",
    "      }\n",
    " \n",
    "# we use recursive function to count\n",
    "# length of nested dictionaries\n",
    "def count_nested_len(d):\n",
    "    length = len(d)\n",
    "    for key, value in d.items():\n",
    "        if isinstance(value, dict):\n",
    "            length += count_nested_len(value)\n",
    "    return length\n",
    " \n",
    "print(\"Nested dictionary length:\", \n",
    "      count_nested_len(dict2))"
   ]
  }
 ],
 "metadata": {
  "kernelspec": {
   "display_name": "Python 3",
   "language": "python",
   "name": "python3"
  },
  "language_info": {
   "codemirror_mode": {
    "name": "ipython",
    "version": 3
   },
   "file_extension": ".py",
   "mimetype": "text/x-python",
   "name": "python",
   "nbconvert_exporter": "python",
   "pygments_lexer": "ipython3",
   "version": "3.11.4"
  }
 },
 "nbformat": 4,
 "nbformat_minor": 2
}
